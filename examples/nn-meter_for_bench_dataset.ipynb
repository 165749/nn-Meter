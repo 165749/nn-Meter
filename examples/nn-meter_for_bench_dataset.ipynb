{
 "cells": [
  {
   "cell_type": "markdown",
   "source": [
    "# Use nn-Meter for Benchmark Dataset\n",
    "In this notebook, we showed nn-Meter examples of latency prediction for benchmark dataset."
   ],
   "metadata": {}
  },
  {
   "cell_type": "code",
   "execution_count": 4,
   "source": [
    "import os\n",
    "import nn_meter\n",
    "from nn_meter.dataset import bench_dataset\n",
    "\n",
    "datasets = bench_dataset()\n",
    "for data in datasets:\n",
    "    print(os.path.basename(data))"
   ],
   "outputs": [
    {
     "output_type": "stream",
     "name": "stdout",
     "text": [
      "alexnets.jsonl\n",
      "densenets.jsonl\n",
      "googlenets.jsonl\n",
      "mnasnets.jsonl\n",
      "mobilenetv1s.jsonl\n",
      "mobilenetv2s.jsonl\n",
      "mobilenetv3s.jsonl\n",
      "nasbench201s.jsonl\n",
      "proxylessnass.jsonl\n",
      "resnets.jsonl\n",
      "shufflenetv2s.jsonl\n",
      "squeezenets.jsonl\n",
      "vggs.jsonl\n"
     ]
    }
   ],
   "metadata": {}
  },
  {
   "cell_type": "code",
   "execution_count": 5,
   "source": [
    "# list all supporting latency predictors\n",
    "predictors = nn_meter.list_latency_predictors()\n",
    "for p in predictors:\n",
    "    print(f\"[Predictor] {p['name']}: version={p['version']}\")"
   ],
   "outputs": [
    {
     "output_type": "stream",
     "name": "stdout",
     "text": [
      "[Predictor] cortexA76cpu_tflite21: version=1.0\n",
      "[Predictor] adreno640gpu_tflite21: version=1.0\n",
      "[Predictor] adreno630gpu_tflite21: version=1.0\n",
      "[Predictor] myriadvpu_openvino2019r2: version=1.0\n"
     ]
    }
   ],
   "metadata": {}
  },
  {
   "cell_type": "code",
   "execution_count": 6,
   "source": [
    "# specify basic predictor\n",
    "predictor_name = 'adreno640gpu_tflite21' # user can change text here to test other predictors\n",
    "predictor_version = 1.0\n",
    "\n",
    "import warnings\n",
    "warnings.filterwarnings('ignore')"
   ],
   "outputs": [],
   "metadata": {}
  },
  {
   "cell_type": "code",
   "execution_count": 12,
   "source": [
    "import jsonlines\n",
    "import nn_meter\n",
    "\n",
    "# load predictor\n",
    "predictor = nn_meter.load_latency_predictor(predictor_name, predictor_version)\n",
    "\n",
    "# view latency prediction demo in one model group of the dataset \n",
    "test_data = datasets[0]\n",
    "with jsonlines.open(test_data) as data_reader:\n",
    "    True_lat = []\n",
    "    Pred_lat = []\n",
    "    for i, item in enumerate(data_reader):\n",
    "        if i >= 20: # only show the first 20 results to save space\n",
    "            break\n",
    "        graph = item[\"graph\"]\n",
    "        pred_lat = predictor.predict(graph, model_type=\"nnmeter-ir\")\n",
    "        real_lat = item[predictor_name]\n",
    "        print(f'[RESULT] {os.path.basename(test_data)}[{i}]: predict: {pred_lat}, real: {real_lat}')\n",
    "\n",
    "        if real_lat != None:\n",
    "            True_lat.append(real_lat)\n",
    "            Pred_lat.append(pred_lat)\n",
    "\n",
    "if len(True_lat) > 0:\n",
    "    rmse, rmspe, error, acc5, acc10, _ = nn_meter.latency_metrics(Pred_lat, True_lat)\n",
    "    print(\n",
    "        f'[SUMMARY] The first 20 cases from {os.path.basename(test_data)} on {predictor_name}: rmse: {rmse}, 5%accuracy: {acc5}, 10%accuracy: {acc10}'\n",
    "    )\n",
    "        "
   ],
   "outputs": [
    {
     "output_type": "stream",
     "name": "stdout",
     "text": [
      "[Result] alexnets.jsonl[0]: predict: 23.447085575244774, real: 24.4851\n",
      "[Result] alexnets.jsonl[1]: predict: 23.88567577635713, real: 23.9185\n",
      "[Result] alexnets.jsonl[2]: predict: 29.586297830632216, real: 30.3052\n",
      "[Result] alexnets.jsonl[3]: predict: 51.12333226388625, real: 52.089\n",
      "[Result] alexnets.jsonl[4]: predict: 4.937166470494069, real: 5.26442\n",
      "[Result] alexnets.jsonl[5]: predict: 14.996201148770353, real: 15.2265\n",
      "[Result] alexnets.jsonl[6]: predict: 9.262593840400985, real: 9.12046\n",
      "[Result] alexnets.jsonl[7]: predict: 13.912859618198581, real: 14.2242\n",
      "[Result] alexnets.jsonl[8]: predict: 15.02293612116675, real: 15.2457\n",
      "[Result] alexnets.jsonl[9]: predict: 12.443609556620194, real: 12.5989\n",
      "[Result] alexnets.jsonl[10]: predict: 15.971239887611212, real: 15.185\n",
      "[Result] alexnets.jsonl[11]: predict: 19.46934719077786, real: 20.1434\n",
      "[Result] alexnets.jsonl[12]: predict: 12.58047633556376, real: 14.4818\n",
      "[Result] alexnets.jsonl[13]: predict: 18.514081238237033, real: 19.0136\n",
      "[Result] alexnets.jsonl[14]: predict: 7.330729281187615, real: 7.7855\n",
      "[Result] alexnets.jsonl[15]: predict: 14.86018561710669, real: 15.7775\n",
      "[Result] alexnets.jsonl[16]: predict: 15.788781165175772, real: 16.0765\n",
      "[Result] alexnets.jsonl[17]: predict: 35.331315161111945, real: 35.7741\n",
      "[Result] alexnets.jsonl[18]: predict: 12.409197810645445, real: 12.4725\n",
      "[Result] alexnets.jsonl[19]: predict: 37.08473259556314, real: 36.4975\n",
      "[Summary] The first 20 cases from alexnets.jsonl on adreno640gpu_tflite21: rmse: 0.6889098264185176, 5%accuracy: 0.75, 10%accuracy: 0.95\n"
     ]
    }
   ],
   "metadata": {}
  },
  {
   "cell_type": "code",
   "execution_count": null,
   "source": [
    "# apply nn-Meter prediction for all data\n",
    "for filename in datasets:\n",
    "    print(f'Start testing {os.path.basename(filename)} ...')\n",
    "    True_lat = []\n",
    "    Pred_lat = []\n",
    "    with jsonlines.open(filename) as data_reader:\n",
    "        for item in data_reader:\n",
    "            graph = item[\"graph\"]\n",
    "            pred_lat = predictor.predict(graph, model_type=\"nnmeter-ir\")\n",
    "            real_lat = item[predictor_name]\n",
    "            if real_lat != None:\n",
    "                True_lat.append(real_lat)\n",
    "                Pred_lat.append(pred_lat)\n",
    "    if len(True_lat) > 0:\n",
    "        rmse, rmspe, error, acc5, acc10, _ = nn_meter.latency_metrics(Pred_lat, True_lat)\n",
    "        print(\n",
    "            f'{filename} on {predictor_name}: rmse: {rmse}, 5%accuracy: {acc5}, 10%accuracy: {acc10}'\n",
    "        )"
   ],
   "outputs": [],
   "metadata": {}
  }
 ],
 "metadata": {
  "orig_nbformat": 4,
  "language_info": {
   "name": "python",
   "version": "3.6.10",
   "mimetype": "text/x-python",
   "codemirror_mode": {
    "name": "ipython",
    "version": 3
   },
   "pygments_lexer": "ipython3",
   "nbconvert_exporter": "python",
   "file_extension": ".py"
  },
  "kernelspec": {
   "name": "python3",
   "display_name": "Python 3.6.10 64-bit ('py36': conda)"
  },
  "interpreter": {
   "hash": "725f784512f384579f6470be215ba42b52a9bbd25ecead6d24b2cff5bb6ad2c7"
  }
 },
 "nbformat": 4,
 "nbformat_minor": 2
}
